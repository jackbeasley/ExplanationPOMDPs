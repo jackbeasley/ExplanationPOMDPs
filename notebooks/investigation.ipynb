{
 "metadata": {
  "language_info": {
   "codemirror_mode": {
    "name": "ipython",
    "version": 3
   },
   "file_extension": ".py",
   "mimetype": "text/x-python",
   "name": "python",
   "nbconvert_exporter": "python",
   "pygments_lexer": "ipython3",
   "version": 3
  },
  "orig_nbformat": 2,
  "kernelspec": {
   "name": "julia-1.5",
   "display_name": "Julia 1.5.2"
  }
 },
 "nbformat": 4,
 "nbformat_minor": 2,
 "cells": [
  {
   "cell_type": "code",
   "execution_count": 1,
   "metadata": {},
   "outputs": [
    {
     "output_type": "stream",
     "name": "stderr",
     "text": [
      "\u001b[32m\u001b[1m Activating\u001b[22m\u001b[39m environment at `~/Documents/College/SymSysThesis/ExplanationPOMDPs/Project.toml`\n"
     ]
    }
   ],
   "source": [
    "using Pkg; Pkg.activate(\"..\")"
   ]
  },
  {
   "source": [
    "## Research Question\n",
    "\n",
    "Can IBE update rules with fixed decision rules be approximated with Bayesian update rules with different decision rules? Does moving this evaluation metric (accuracy, number correct, etc) into an explicit reward distribution give us a better way to reason about the tradeoffs here?\n",
    "\n",
    "\n",
    "\n"
   ],
   "cell_type": "markdown",
   "metadata": {}
  },
  {
   "cell_type": "code",
   "execution_count": 2,
   "metadata": {},
   "outputs": [
    {
     "output_type": "stream",
     "name": "stderr",
     "text": [
      "┌ Info: Precompiling ExplanationPOMDPs [56cff400-c7d8-47e0-a2d0-3cf93b18e6d3]\n└ @ Base loading.jl:1278\n"
     ]
    }
   ],
   "source": [
    "using ExplanationPOMDPs\n",
    "using ExplanationPOMDPs.SingleObservationExplanation\n",
    "using POMDPModelTools, POMDPPolicies, POMDPSimulators, BeliefUpdaters"
   ]
  },
  {
   "cell_type": "code",
   "execution_count": 3,
   "metadata": {},
   "outputs": [
    {
     "output_type": "execute_result",
     "data": {
      "text/plain": [
       "SingleObservationPOMDP(10, 5, 0.0, 1.0, -1.0)"
      ]
     },
     "metadata": {},
     "execution_count": 3
    }
   ],
   "source": [
    "m = SingleObservationPOMDP(10, 5, 0.0, 1.0, -1.0)"
   ]
  },
  {
   "cell_type": "code",
   "execution_count": 4,
   "metadata": {},
   "outputs": [
    {
     "output_type": "execute_result",
     "data": {
      "text/plain": [
       "FunctionPolicy{var\"#7#8\"}(var\"#7#8\"())"
      ]
     },
     "metadata": {},
     "execution_count": 4
    }
   ],
   "source": [
    "p = FunctionPolicy(s -> 5)"
   ]
  },
  {
   "cell_type": "code",
   "execution_count": 5,
   "metadata": {},
   "outputs": [
    {
     "output_type": "execute_result",
     "data": {
      "text/plain": [
       "DiscreteUpdater{SingleObservationPOMDP}(SingleObservationPOMDP(10, 5, 0.0, 1.0, -1.0))"
      ]
     },
     "metadata": {},
     "execution_count": 5
    }
   ],
   "source": [
    "up = DiscreteUpdater(m)"
   ]
  },
  {
   "cell_type": "code",
   "execution_count": 6,
   "metadata": {},
   "outputs": [
    {
     "output_type": "error",
     "ename": "LoadError",
     "evalue": "MethodError: no method matching transition(::SingleObservationPOMDP, ::Int64, ::Int64)\nClosest candidates are:\n  transition(!Matched::FullyObservablePOMDP, ::Any, ::Any) at /Users/jbeasley/.julia/packages/POMDPModelTools/PSY4W/src/fully_observable_pomdp.jl:34\n  transition(!Matched::UnderlyingMDP{P,S,A}, ::S, ::A) where {P, S, A} at /Users/jbeasley/.julia/packages/POMDPModelTools/PSY4W/src/underlying_mdp.jl:21\n  transition(!Matched::Union{SparseTabularMDP, SparseTabularPOMDP}, ::Int64, ::Int64) at /Users/jbeasley/.julia/packages/POMDPModelTools/PSY4W/src/sparse_tabular.jl:270",
     "traceback": [
      "MethodError: no method matching transition(::SingleObservationPOMDP, ::Int64, ::Int64)\nClosest candidates are:\n  transition(!Matched::FullyObservablePOMDP, ::Any, ::Any) at /Users/jbeasley/.julia/packages/POMDPModelTools/PSY4W/src/fully_observable_pomdp.jl:34\n  transition(!Matched::UnderlyingMDP{P,S,A}, ::S, ::A) where {P, S, A} at /Users/jbeasley/.julia/packages/POMDPModelTools/PSY4W/src/underlying_mdp.jl:21\n  transition(!Matched::Union{SparseTabularMDP, SparseTabularPOMDP}, ::Int64, ::Int64) at /Users/jbeasley/.julia/packages/POMDPModelTools/PSY4W/src/sparse_tabular.jl:270",
      "",
      "Stacktrace:",
      " [1] macro expansion at /Users/jbeasley/.julia/packages/POMDPs/2dEq8/src/gen_impl.jl:39 [inlined]",
      " [2] genout(::POMDPs.DDNOut{(:sp, :o, :r, :info)}, ::SingleObservationPOMDP, ::Int64, ::Int64, ::Random._GLOBAL_RNG) at /Users/jbeasley/.julia/packages/POMDPs/2dEq8/src/gen_impl.jl:19",
      " [3] (::POMDPSimulators.var\"#139#f#19\")(::SingleObservationPOMDP, ::Int64, ::Int64, ::Random._GLOBAL_RNG) at /Users/jbeasley/.julia/packages/POMDPs/2dEq8/src/generative.jl:65",
      " [4] iterate at /Users/jbeasley/.julia/packages/POMDPSimulators/U7skZ/src/stepthrough.jl:92 [inlined]",
      " [5] iterate at /Users/jbeasley/.julia/packages/POMDPSimulators/U7skZ/src/stepthrough.jl:85 [inlined]",
      " [6] _collect at ./array.jl:635 [inlined]",
      " [7] collect at ./array.jl:624 [inlined]",
      " [8] collect_history(::POMDPSimulators.POMDPSimIterator{(:s, :a, :sp, :o, :r, :info, :t, :action_info, :b, :bp, :update_info),SingleObservationPOMDP,FunctionPolicy{var\"#7#8\"},DiscreteUpdater{SingleObservationPOMDP},Random._GLOBAL_RNG,DiscreteBelief{SingleObservationPOMDP,Int64},Int64}, ::Val{false}, ::Nothing) at /Users/jbeasley/.julia/packages/POMDPSimulators/U7skZ/src/history_recorder.jl:185",
      " [9] simulate(::HistoryRecorder, ::SingleObservationPOMDP, ::FunctionPolicy{var\"#7#8\"}, ::DiscreteUpdater{SingleObservationPOMDP}, ::SparseCat{Array{Int64,1},Array{Float64,1}}, ::Int64) at /Users/jbeasley/.julia/packages/POMDPSimulators/U7skZ/src/history_recorder.jl:109",
      " [10] simulate(::HistoryRecorder, ::SingleObservationPOMDP, ::FunctionPolicy{var\"#7#8\"}, ::DiscreteUpdater{SingleObservationPOMDP}, ::SparseCat{Array{Int64,1},Array{Float64,1}}) at /Users/jbeasley/.julia/packages/POMDPSimulators/U7skZ/src/history_recorder.jl:85",
      " [11] test_simulation(::SingleObservationPOMDP, ::FunctionPolicy{var\"#7#8\"}, ::DiscreteUpdater{SingleObservationPOMDP}) at /Users/jbeasley/Documents/College/SymSysThesis/ExplanationPOMDPs/src/ExplanationPOMDPs.jl:10",
      " [12] top-level scope at In[6]:1",
      " [13] include_string(::Function, ::Module, ::String, ::String) at ./loading.jl:1091",
      " [14] execute_code(::String, ::String) at /Users/jbeasley/.julia/packages/IJulia/rWZ9e/src/execute_request.jl:27",
      " [15] execute_request(::ZMQ.Socket, ::IJulia.Msg) at /Users/jbeasley/.julia/packages/IJulia/rWZ9e/src/execute_request.jl:86",
      " [16] #invokelatest#1 at ./essentials.jl:710 [inlined]",
      " [17] invokelatest at ./essentials.jl:709 [inlined]",
      " [18] eventloop(::ZMQ.Socket) at /Users/jbeasley/.julia/packages/IJulia/rWZ9e/src/eventloop.jl:8",
      " [19] (::IJulia.var\"#15#18\")() at ./task.jl:356"
     ]
    }
   ],
   "source": [
    "test_simulation(m, p, up)"
   ]
  },
  {
   "cell_type": "code",
   "execution_count": null,
   "metadata": {},
   "outputs": [],
   "source": []
  }
 ]
}